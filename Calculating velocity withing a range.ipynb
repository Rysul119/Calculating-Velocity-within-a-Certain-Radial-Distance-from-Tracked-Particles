{
 "cells": [
  {
   "cell_type": "code",
   "execution_count": 1,
   "metadata": {},
   "outputs": [],
   "source": [
    "import numpy as np\n",
    "import pandas as pd\n",
    "import math\n",
    "import trackpy as tp\n",
    "import matplotlib.pyplot as plt\n",
    "%matplotlib inline)"
   ]
  },
  {
   "cell_type": "code",
   "execution_count": 22,
   "metadata": {},
   "outputs": [],
   "source": [
    "t=pd.read_csv(\"C:/Users/**.csv\") # uploading a file with the coordinates of tracked particles"
   ]
  },
  {
   "cell_type": "code",
   "execution_count": 23,
   "metadata": {
    "scrolled": true
   },
   "outputs": [
    {
     "data": {
      "text/html": [
       "<div>\n",
       "<style scoped>\n",
       "    .dataframe tbody tr th:only-of-type {\n",
       "        vertical-align: middle;\n",
       "    }\n",
       "\n",
       "    .dataframe tbody tr th {\n",
       "        vertical-align: top;\n",
       "    }\n",
       "\n",
       "    .dataframe thead th {\n",
       "        text-align: right;\n",
       "    }\n",
       "</style>\n",
       "<table border=\"1\" class=\"dataframe\">\n",
       "  <thead>\n",
       "    <tr style=\"text-align: right;\">\n",
       "      <th></th>\n",
       "      <th>Unnamed: 0</th>\n",
       "      <th>y</th>\n",
       "      <th>x</th>\n",
       "      <th>mass</th>\n",
       "      <th>size</th>\n",
       "      <th>ecc</th>\n",
       "      <th>signal</th>\n",
       "      <th>raw_mass</th>\n",
       "      <th>ep</th>\n",
       "      <th>frame</th>\n",
       "      <th>particle</th>\n",
       "    </tr>\n",
       "  </thead>\n",
       "  <tbody>\n",
       "    <tr>\n",
       "      <th>0</th>\n",
       "      <td>0</td>\n",
       "      <td>11.217195</td>\n",
       "      <td>314.937673</td>\n",
       "      <td>2498.613690</td>\n",
       "      <td>3.742028</td>\n",
       "      <td>0.116985</td>\n",
       "      <td>41.576698</td>\n",
       "      <td>42433.0</td>\n",
       "      <td>0.029415</td>\n",
       "      <td>0</td>\n",
       "      <td>0</td>\n",
       "    </tr>\n",
       "    <tr>\n",
       "      <th>1</th>\n",
       "      <td>95</td>\n",
       "      <td>440.046361</td>\n",
       "      <td>697.799641</td>\n",
       "      <td>2029.599355</td>\n",
       "      <td>5.595933</td>\n",
       "      <td>0.299296</td>\n",
       "      <td>24.800136</td>\n",
       "      <td>37197.0</td>\n",
       "      <td>0.033615</td>\n",
       "      <td>0</td>\n",
       "      <td>1</td>\n",
       "    </tr>\n",
       "    <tr>\n",
       "      <th>2</th>\n",
       "      <td>96</td>\n",
       "      <td>440.334310</td>\n",
       "      <td>32.916117</td>\n",
       "      <td>2986.957542</td>\n",
       "      <td>3.097894</td>\n",
       "      <td>0.057821</td>\n",
       "      <td>78.412194</td>\n",
       "      <td>34063.0</td>\n",
       "      <td>0.036755</td>\n",
       "      <td>0</td>\n",
       "      <td>2</td>\n",
       "    </tr>\n",
       "    <tr>\n",
       "      <th>3</th>\n",
       "      <td>97</td>\n",
       "      <td>440.738412</td>\n",
       "      <td>334.327673</td>\n",
       "      <td>2384.095415</td>\n",
       "      <td>3.412984</td>\n",
       "      <td>0.054129</td>\n",
       "      <td>42.670822</td>\n",
       "      <td>32500.0</td>\n",
       "      <td>0.038552</td>\n",
       "      <td>0</td>\n",
       "      <td>3</td>\n",
       "    </tr>\n",
       "    <tr>\n",
       "      <th>4</th>\n",
       "      <td>98</td>\n",
       "      <td>444.914823</td>\n",
       "      <td>142.188083</td>\n",
       "      <td>2736.038520</td>\n",
       "      <td>3.087069</td>\n",
       "      <td>0.085347</td>\n",
       "      <td>71.118037</td>\n",
       "      <td>33655.0</td>\n",
       "      <td>0.037208</td>\n",
       "      <td>0</td>\n",
       "      <td>4</td>\n",
       "    </tr>\n",
       "  </tbody>\n",
       "</table>\n",
       "</div>"
      ],
      "text/plain": [
       "   Unnamed: 0           y           x         mass      size       ecc  \\\n",
       "0           0   11.217195  314.937673  2498.613690  3.742028  0.116985   \n",
       "1          95  440.046361  697.799641  2029.599355  5.595933  0.299296   \n",
       "2          96  440.334310   32.916117  2986.957542  3.097894  0.057821   \n",
       "3          97  440.738412  334.327673  2384.095415  3.412984  0.054129   \n",
       "4          98  444.914823  142.188083  2736.038520  3.087069  0.085347   \n",
       "\n",
       "      signal  raw_mass        ep  frame  particle  \n",
       "0  41.576698   42433.0  0.029415      0         0  \n",
       "1  24.800136   37197.0  0.033615      0         1  \n",
       "2  78.412194   34063.0  0.036755      0         2  \n",
       "3  42.670822   32500.0  0.038552      0         3  \n",
       "4  71.118037   33655.0  0.037208      0         4  "
      ]
     },
     "execution_count": 23,
     "metadata": {},
     "output_type": "execute_result"
    }
   ],
   "source": [
    "t.head()"
   ]
  },
  {
   "cell_type": "code",
   "execution_count": 24,
   "metadata": {
    "scrolled": true
   },
   "outputs": [
    {
     "name": "stdout",
     "output_type": "stream",
     "text": [
      "Before: 15463\n",
      "After: 404\n"
     ]
    }
   ],
   "source": [
    "t1 = tp.filter_stubs(t, 50)\n",
    "# Compare the number of particles in the unfiltered and filtered data.\n",
    "print('Before:', t['particle'].nunique())\n",
    "print('After:', t1['particle'].nunique())"
   ]
  },
  {
   "cell_type": "code",
   "execution_count": 25,
   "metadata": {
    "scrolled": true
   },
   "outputs": [
    {
     "data": {
      "image/png": "[encoded data removed]",
      "text/plain": [
       "<Figure size 432x288 with 1 Axes>"
      ]
     },
     "metadata": {
      "needs_background": "light"
     },
     "output_type": "display_data"
    }
   ],
   "source": [
    "plt.figure()\n",
    "tp.mass_size(t1.groupby('particle').mean()); # convenience function -- just plots size vs. mass"
   ]
  },
  {
   "cell_type": "code",
   "execution_count": 26,
   "metadata": {
    "scrolled": true
   },
   "outputs": [
    {
     "data": {
      "text/html": [
       "<div>\n",
       "<style scoped>\n",
       "    .dataframe tbody tr th:only-of-type {\n",
       "        vertical-align: middle;\n",
       "    }\n",
       "\n",
       "    .dataframe tbody tr th {\n",
       "        vertical-align: top;\n",
       "    }\n",
       "\n",
       "    .dataframe thead th {\n",
       "        text-align: right;\n",
       "    }\n",
       "</style>\n",
       "<table border=\"1\" class=\"dataframe\">\n",
       "  <thead>\n",
       "    <tr style=\"text-align: right;\">\n",
       "      <th></th>\n",
       "      <th>Unnamed: 0</th>\n",
       "      <th>y</th>\n",
       "      <th>x</th>\n",
       "      <th>mass</th>\n",
       "      <th>size</th>\n",
       "      <th>ecc</th>\n",
       "      <th>signal</th>\n",
       "      <th>raw_mass</th>\n",
       "      <th>ep</th>\n",
       "      <th>frame</th>\n",
       "      <th>particle</th>\n",
       "    </tr>\n",
       "    <tr>\n",
       "      <th>frame</th>\n",
       "      <th></th>\n",
       "      <th></th>\n",
       "      <th></th>\n",
       "      <th></th>\n",
       "      <th></th>\n",
       "      <th></th>\n",
       "      <th></th>\n",
       "      <th></th>\n",
       "      <th></th>\n",
       "      <th></th>\n",
       "      <th></th>\n",
       "    </tr>\n",
       "  </thead>\n",
       "  <tbody>\n",
       "    <tr>\n",
       "      <th>0</th>\n",
       "      <td>0</td>\n",
       "      <td>11.217195</td>\n",
       "      <td>314.937673</td>\n",
       "      <td>2498.613690</td>\n",
       "      <td>3.742028</td>\n",
       "      <td>0.116985</td>\n",
       "      <td>41.576698</td>\n",
       "      <td>42433.0</td>\n",
       "      <td>0.029415</td>\n",
       "      <td>0</td>\n",
       "      <td>0</td>\n",
       "    </tr>\n",
       "    <tr>\n",
       "      <th>0</th>\n",
       "      <td>96</td>\n",
       "      <td>440.334310</td>\n",
       "      <td>32.916117</td>\n",
       "      <td>2986.957542</td>\n",
       "      <td>3.097894</td>\n",
       "      <td>0.057821</td>\n",
       "      <td>78.412194</td>\n",
       "      <td>34063.0</td>\n",
       "      <td>0.036755</td>\n",
       "      <td>0</td>\n",
       "      <td>2</td>\n",
       "    </tr>\n",
       "    <tr>\n",
       "      <th>0</th>\n",
       "      <td>97</td>\n",
       "      <td>440.738412</td>\n",
       "      <td>334.327673</td>\n",
       "      <td>2384.095415</td>\n",
       "      <td>3.412984</td>\n",
       "      <td>0.054129</td>\n",
       "      <td>42.670822</td>\n",
       "      <td>32500.0</td>\n",
       "      <td>0.038552</td>\n",
       "      <td>0</td>\n",
       "      <td>3</td>\n",
       "    </tr>\n",
       "    <tr>\n",
       "      <th>0</th>\n",
       "      <td>98</td>\n",
       "      <td>444.914823</td>\n",
       "      <td>142.188083</td>\n",
       "      <td>2736.038520</td>\n",
       "      <td>3.087069</td>\n",
       "      <td>0.085347</td>\n",
       "      <td>71.118037</td>\n",
       "      <td>33655.0</td>\n",
       "      <td>0.037208</td>\n",
       "      <td>0</td>\n",
       "      <td>4</td>\n",
       "    </tr>\n",
       "    <tr>\n",
       "      <th>0</th>\n",
       "      <td>99</td>\n",
       "      <td>452.189759</td>\n",
       "      <td>421.861448</td>\n",
       "      <td>2613.861380</td>\n",
       "      <td>3.014013</td>\n",
       "      <td>0.038525</td>\n",
       "      <td>70.388621</td>\n",
       "      <td>33427.0</td>\n",
       "      <td>0.037466</td>\n",
       "      <td>0</td>\n",
       "      <td>5</td>\n",
       "    </tr>\n",
       "  </tbody>\n",
       "</table>\n",
       "</div>"
      ],
      "text/plain": [
       "       Unnamed: 0           y           x         mass      size       ecc  \\\n",
       "frame                                                                        \n",
       "0               0   11.217195  314.937673  2498.613690  3.742028  0.116985   \n",
       "0              96  440.334310   32.916117  2986.957542  3.097894  0.057821   \n",
       "0              97  440.738412  334.327673  2384.095415  3.412984  0.054129   \n",
       "0              98  444.914823  142.188083  2736.038520  3.087069  0.085347   \n",
       "0              99  452.189759  421.861448  2613.861380  3.014013  0.038525   \n",
       "\n",
       "          signal  raw_mass        ep  frame  particle  \n",
       "frame                                                  \n",
       "0      41.576698   42433.0  0.029415      0         0  \n",
       "0      78.412194   34063.0  0.036755      0         2  \n",
       "0      42.670822   32500.0  0.038552      0         3  \n",
       "0      71.118037   33655.0  0.037208      0         4  \n",
       "0      70.388621   33427.0  0.037466      0         5  "
      ]
     },
     "execution_count": 26,
     "metadata": {},
     "output_type": "execute_result"
    }
   ],
   "source": [
    "t1.head()"
   ]
  },
  {
   "cell_type": "code",
   "execution_count": 27,
   "metadata": {
    "scrolled": true
   },
   "outputs": [
    {
     "data": {
      "image/png": "[encoded data removed]",
      "text/plain": [
       "<Figure size 432x288 with 1 Axes>"
      ]
     },
     "metadata": {
      "needs_background": "light"
     },
     "output_type": "display_data"
    }
   ],
   "source": [
    "plt.figure()\n",
    "tp.plot_traj(t1);"
   ]
  },
  {
   "cell_type": "code",
   "execution_count": 28,
   "metadata": {},
   "outputs": [],
   "source": [
    "par = []\n",
    "for i in t1['particle'].unique():\n",
    "    c=float(t1[(t1[\"particle\"]==i) & (t1[\"frame\"]==t1[t1[\"particle\"]==i].frame.max())].x)-float(t1[(t1[\"particle\"]==i) & (t1[\"frame\"]==t1[t1[\"particle\"]==i].frame.min())].x)\n",
    "    d=float(t1[(t1[\"particle\"]==i) & (t1[\"frame\"]==t1[t1[\"particle\"]==i].frame.max())].y)-float(t1[(t1[\"particle\"]==i) & (t1[\"frame\"]==t1[t1[\"particle\"]==i].frame.min())].y)\n",
    "    dist = math.sqrt(c**2+d**2)\n",
    "    #filtering out particles travelled for a very short distance\n",
    "    if dist>120:   \n",
    "        par.append(i)"
   ]
  },
  {
   "cell_type": "code",
   "execution_count": 29,
   "metadata": {
    "scrolled": true
   },
   "outputs": [
    {
     "name": "stdout",
     "output_type": "stream",
     "text": [
      "9 0 637\n",
      "13 0 1199\n",
      "33 0 821\n",
      "38 0 433\n",
      "43 0 1199\n",
      "49 0 677\n",
      "51 0 1199\n",
      "59 0 1199\n",
      "64 0 1199\n",
      "66 0 768\n",
      "85 0 1199\n",
      "89 0 1199\n",
      "103 0 1199\n",
      "125 0 1199\n",
      "131 0 1199\n",
      "135 0 855\n",
      "434 21 317\n",
      "757 45 1199\n",
      "1138 77 1199\n",
      "1553 108 550\n",
      "2369 169 1199\n",
      "2575 184 886\n",
      "3597 266 1199\n",
      "3611 267 946\n",
      "3987 297 916\n",
      "4782 364 1199\n",
      "5282 404 1053\n",
      "5306 407 673\n",
      "5776 443 1146\n",
      "6812 521 1070\n",
      "6832 523 1199\n",
      "9600 744 1199\n",
      "10168 785 1199\n",
      "10405 803 1123\n",
      "10657 819 1199\n"
     ]
    }
   ],
   "source": [
    "for i in par:\n",
    "    mxframe= t1[t1[\"particle\"]==i].frame.max()\n",
    "    mnframe= t1[t1[\"particle\"]==i].frame.min()\n",
    "    print(i, mnframe, mxframe) "
   ]
  },
  {
   "cell_type": "code",
   "execution_count": 30,
   "metadata": {},
   "outputs": [],
   "source": [
    "limdis = [40, 50, 60 , 70, 80, 90, 100, 110, 120]\n",
    "alw = 0.03\n",
    "frm = []\n",
    "parf = []\n",
    "rdis = []\n",
    "for a in limdis:\n",
    "    for i in range((t1['frame'].max()+1)):\n",
    "        partemp = []\n",
    "        for j in par:\n",
    "            for k in t1[t1['particle']==j]['frame'].unique():\n",
    "                if ((k==i)): # & (t1[t1['particle']==j]['frame'].min()>k)\n",
    "                    partemp.append(j)\n",
    "                    break # assigning the particles in par that are in the frame that is being iterated\n",
    "        partemp1 = []\n",
    "        for l in partemp:\n",
    "            cx = (float(t1[(t1[\"particle\"]==l) & (t1[\"frame\"]==i)].x)-512.00)/3.16\n",
    "            dx = (float(t1[(t1[\"particle\"]==l) & (t1[\"frame\"]==i)].y)-384.00)/3.16\n",
    "            dist = math.sqrt(cx**2+dx**2)\n",
    "            if a-alw<dist<a+alw:  \n",
    "                partemp1.append(l)\n",
    "        #print(partemp1,i)\n",
    "        if partemp1:\n",
    "            frm.append(i)\n",
    "            parf.append(partemp1)\n",
    "            rdis.append(a)\n",
    "dict = {'Frame':frm, 'Particles':parf, 'Radial_distance': rdis}\n",
    "df = pd.DataFrame(dict)"
   ]
  },
  {
   "cell_type": "code",
   "execution_count": 31,
   "metadata": {},
   "outputs": [
    {
     "data": {
      "text/html": [
       "<div>\n",
       "<style scoped>\n",
       "    .dataframe tbody tr th:only-of-type {\n",
       "        vertical-align: middle;\n",
       "    }\n",
       "\n",
       "    .dataframe tbody tr th {\n",
       "        vertical-align: top;\n",
       "    }\n",
       "\n",
       "    .dataframe thead th {\n",
       "        text-align: right;\n",
       "    }\n",
       "</style>\n",
       "<table border=\"1\" class=\"dataframe\">\n",
       "  <thead>\n",
       "    <tr style=\"text-align: right;\">\n",
       "      <th></th>\n",
       "      <th>Frame</th>\n",
       "      <th>Particles</th>\n",
       "      <th>Radial_distance</th>\n",
       "    </tr>\n",
       "  </thead>\n",
       "  <tbody>\n",
       "  </tbody>\n",
       "</table>\n",
       "</div>"
      ],
      "text/plain": [
       "Empty DataFrame\n",
       "Columns: [Frame, Particles, Radial_distance]\n",
       "Index: []"
      ]
     },
     "execution_count": 31,
     "metadata": {},
     "output_type": "execute_result"
    }
   ],
   "source": [
    "df[df['Frame']==0]"
   ]
  },
  {
   "cell_type": "code",
   "execution_count": 118,
   "metadata": {},
   "outputs": [],
   "source": [
    "df=df[df['Frame']!=0] #Dropping particles at the the very first frame for a certain radial distance\n"
   ]
  },
  {
   "cell_type": "code",
   "execution_count": null,
   "metadata": {},
   "outputs": [],
   "source": [
    "#uses the frame right before the frame of interest\n",
    "velt = []\n",
    "for m, n in zip(df['Particles'], df['Frame']):\n",
    "    flag = []\n",
    "    for k in t1[t1['particle']==m[0]]['frame'].unique():\n",
    "        flag.append((k-n))\n",
    "            #a = t1[(t1['particle']==m[0]) & (t1['frame']==(n))].x\n",
    "    sd = {'lis':t1[t1['particle']==m[0]]['frame'].unique(), 'flag':flag}\n",
    "    df1 = pd.DataFrame(sd)\n",
    "    df1.drop([flag.index(0)])\n",
    "    prevfrm = df1[df1['lis']<n].max()[0]\n",
    "    if np.isnan(prevfrm):\n",
    "        velt.append(0)\n",
    "        continue\n",
    "    cx = (float(t1[(t1[\"particle\"]==m[0]) & (t1[\"frame\"]==n)].x) - float(t1[(t1[\"particle\"]==(m[0])) & (t1[\"frame\"]==(prevfrm))].x))/3\n",
    "    dx = (float(t1[(t1[\"particle\"]==m[0]) & (t1[\"frame\"]==n)].y) - float(t1[(t1[\"particle\"]==(m[0])) & (t1[\"frame\"]==(prevfrm))].y))/3 \n",
    "    vel = (math.sqrt(cx**2+dx**2))*20/(n-prevfrm)\n",
    "    velt.append(vel)\n",
    "            #break\n",
    "    print(m[0], n, prevfrm, vel)"
   ]
  },
  {
   "cell_type": "code",
   "execution_count": 13,
   "metadata": {
    "scrolled": true
   },
   "outputs": [
    {
     "name": "stdout",
     "output_type": "stream",
     "text": [
      "41 744 734.0 2.5177169653176317\n",
      "41 758 748.0 1.3008165847999917\n",
      "41 765 755.0 2.1524963294263384\n",
      "36 972 962.0 3.6086726657926773\n",
      "77 1009 999.0 1.3456812753236382\n",
      "65 411 401.0 2.5149743808882947\n",
      "65 412 402.0 1.5114068698789902\n",
      "246 576 566.0 2.5210721174931137\n",
      "41 654 644.0 1.436355210999574\n",
      "77 769 759.0 1.9248133761806234\n",
      "36 884 874.0 2.1243668217915688\n",
      "36 889 879.0 0.9357654476281827\n",
      "56 155 145.0 2.5115571920831026\n",
      "6164 473 463.0 1.088823328802357\n",
      "56 14 4.0 0.5533754092726748\n",
      "56 20 10.0 0.2800044878409556\n",
      "77 180 170.0 0.902437770626712\n",
      "58 352 342.0 6.130149004208182\n",
      "41 477 467.0 1.7705899339361284\n",
      "65 110 100.0 3.9232373968448706\n",
      "58 283 273.0 2.312734693802287\n",
      "36 533 523.0 2.7523060106779664\n",
      "11875 943 933.0 1.3716633855856826\n",
      "80 998 988.0 1.8660308063027276\n",
      "80 1000 990.0 1.5410436128263565\n",
      "80 1001 991.0 0.9965398885928598\n",
      "80 1003 993.0 0.7068950696332089\n",
      "80 1005 995.0 0.5632337843426206\n",
      "80 1006 996.0 0.827659462246635\n",
      "80 1008 998.0 0.6135127447558145\n",
      "80 1010 1000.0 1.0875772732642928\n",
      "80 1036 1026.0 1.2003942494546507\n",
      "80 1057 1047.0 0.9902028602740522\n",
      "80 1080 1070.0 1.789989379547611\n",
      "80 1082 1072.0 1.7809480613157258\n",
      "80 1085 1075.0 1.7048794333488053\n",
      "246 247 237.0 2.6757393610469222\n",
      "246 248 238.0 2.3957279407074443\n",
      "61 304 294.0 3.614501551973789\n",
      "11875 862 852.0 3.396255784040836\n",
      "15009 1121 1111.0 3.8876607201018594\n",
      "5607 1154 1144.0 1.9755147901779897\n",
      "36 187 177.0 2.018202408183865\n",
      "36 190 180.0 1.127952832972873\n",
      "36 191 181.0 1.6119837739067708\n",
      "4283 482 472.0 3.723587103412078\n",
      "80 511 501.0 2.992826973015717\n",
      "80 515 505.0 2.530108223482766\n",
      "80 516 506.0 1.8047665914908837\n",
      "80 518 508.0 1.5803147609769104\n",
      "246 83 73.0 3.7202443589439462\n",
      "41 151 141.0 3.50872115453683\n",
      "41 152 142.0 3.120457441329497\n",
      "15009 983 973.0 2.8778218778340063\n",
      "6275 1151 1141.0 3.3026638930003784\n",
      "5607 712 702.0 1.2926995721874748\n"
     ]
    }
   ],
   "source": [
    "#uses delt.\n",
    "velt = []\n",
    "fps=20\n",
    "delt=0.5\n",
    "for m, n in zip(df['Particles'], df['Frame']):\n",
    "    prevfrm = n - delt*fps\n",
    "    if (prevfrm<0 or len(np.array(t1[(t1[\"particle\"]==m[0]) & (t1[\"frame\"]==prevfrm)].x))==0):\n",
    "        velt.append(0)\n",
    "        continue\n",
    "    cx = (float(t1[(t1[\"particle\"]==m[0]) & (t1[\"frame\"]==n)].x) - float(t1[(t1[\"particle\"]==(m[0])) & (t1[\"frame\"]==(prevfrm))].x))/3\n",
    "    dx = (float(t1[(t1[\"particle\"]==m[0]) & (t1[\"frame\"]==n)].y) - float(t1[(t1[\"particle\"]==(m[0])) & (t1[\"frame\"]==(prevfrm))].y))/3 \n",
    "    vel = (math.sqrt(cx**2+dx**2))*fps/(n-prevfrm)\n",
    "    velt.append(vel)\n",
    "            #break\n",
    "    print(m[0], n, prevfrm, vel)"
   ]
  },
  {
   "cell_type": "code",
   "execution_count": 14,
   "metadata": {},
   "outputs": [],
   "source": [
    "df['Velocity'] = velt"
   ]
  },
  {
   "cell_type": "code",
   "execution_count": 15,
   "metadata": {},
   "outputs": [
    {
     "data": {
      "text/html": [
       "<div>\n",
       "<style scoped>\n",
       "    .dataframe tbody tr th:only-of-type {\n",
       "        vertical-align: middle;\n",
       "    }\n",
       "\n",
       "    .dataframe tbody tr th {\n",
       "        vertical-align: top;\n",
       "    }\n",
       "\n",
       "    .dataframe thead th {\n",
       "        text-align: right;\n",
       "    }\n",
       "</style>\n",
       "<table border=\"1\" class=\"dataframe\">\n",
       "  <thead>\n",
       "    <tr style=\"text-align: right;\">\n",
       "      <th></th>\n",
       "      <th>Frame</th>\n",
       "      <th>Particles</th>\n",
       "      <th>Radial_distance</th>\n",
       "      <th>Velocity</th>\n",
       "    </tr>\n",
       "  </thead>\n",
       "  <tbody>\n",
       "    <tr>\n",
       "      <th>14</th>\n",
       "      <td>2</td>\n",
       "      <td>[56]</td>\n",
       "      <td>70</td>\n",
       "      <td>0.0</td>\n",
       "    </tr>\n",
       "    <tr>\n",
       "      <th>19</th>\n",
       "      <td>382</td>\n",
       "      <td>[6164]</td>\n",
       "      <td>70</td>\n",
       "      <td>0.0</td>\n",
       "    </tr>\n",
       "    <tr>\n",
       "      <th>38</th>\n",
       "      <td>6</td>\n",
       "      <td>[65]</td>\n",
       "      <td>90</td>\n",
       "      <td>0.0</td>\n",
       "    </tr>\n",
       "    <tr>\n",
       "      <th>58</th>\n",
       "      <td>6</td>\n",
       "      <td>[61]</td>\n",
       "      <td>120</td>\n",
       "      <td>0.0</td>\n",
       "    </tr>\n",
       "  </tbody>\n",
       "</table>\n",
       "</div>"
      ],
      "text/plain": [
       "    Frame Particles  Radial_distance  Velocity\n",
       "14      2      [56]               70       0.0\n",
       "19    382    [6164]               70       0.0\n",
       "38      6      [65]               90       0.0\n",
       "58      6      [61]              120       0.0"
      ]
     },
     "execution_count": 15,
     "metadata": {},
     "output_type": "execute_result"
    }
   ],
   "source": [
    "df[df['Velocity']==0]"
   ]
  },
  {
   "cell_type": "code",
   "execution_count": 16,
   "metadata": {},
   "outputs": [],
   "source": [
    "df = df[df['Velocity']!=0]"
   ]
  },
  {
   "cell_type": "code",
   "execution_count": 17,
   "metadata": {},
   "outputs": [],
   "source": [
    "df.to_csv('C:/Users/**.csv') # writting the calculated velocity on a csv file"
   ]
  },
  {
   "cell_type": "code",
   "execution_count": 150,
   "metadata": {},
   "outputs": [],
   "source": [
    "df = pd.read_csv('C:/Users/**.csv')\n",
    "limdis = [40, 50, 60 , 70, 80, 85, 90, 100, 110, 120]"
   ]
  },
  {
   "cell_type": "code",
   "execution_count": 18,
   "metadata": {},
   "outputs": [
    {
     "name": "stdout",
     "output_type": "stream",
     "text": [
      "(2.1850767641320554, 0.8514501900615923)\n",
      "(1.8526791749800497, 0.5470602994190003)\n",
      "(1.8001902604427298, 0.7113669316403728)\n",
      "(1.9273113211769304, 2.160559727057744)\n",
      "(1.5311087125185983, 0.8387399344712905)\n",
      "(2.9909000246748065, 0.6882266013978998)\n",
      "(2.1737178334302327, 0.8001293262134103)\n",
      "(3.305981745128932, 0.29341708496164)\n",
      "(1.2926995721874748, 0.0)\n"
     ]
    }
   ],
   "source": [
    "for rd in limdis:\n",
    "    a = df[df['Radial_distance']==rd]['Velocity'].mean(), np.std(df[df['Radial_distance']==rd]['Velocity'])\n",
    "    print(a)"
   ]
  },
  {
   "cell_type": "code",
   "execution_count": 19,
   "metadata": {},
   "outputs": [],
   "source": [
    "y = []\n",
    "yerr = []\n",
    "xerr = []\n",
    "for rd in limdis:\n",
    "    y.append(df[df['Radial_distance']==rd]['Velocity'].mean()) \n",
    "    yerr.append(np.std(df[df['Radial_distance']==rd]['Velocity']))\n",
    "    xerr.append(2)"
   ]
  },
  {
   "cell_type": "code",
   "execution_count": 20,
   "metadata": {
    "scrolled": true
   },
   "outputs": [
    {
     "data": {
      "text/plain": [
       "<ErrorbarContainer object of 3 artists>"
      ]
     },
     "execution_count": 20,
     "metadata": {},
     "output_type": "execute_result"
    },
    {
     "data": {
      "image/png": "[encoded data removed]",
      "text/plain": [
       "<Figure size 432x288 with 1 Axes>"
      ]
     },
     "metadata": {
      "needs_background": "light"
     },
     "output_type": "display_data"
    }
   ],
   "source": [
    " plt.errorbar(limdis,y, yerr = yerr, xerr=xerr,fmt = 'o', color = 'b', ecolor='r', capsize = 5, barsabove=True)"
   ]
  }
 ],
 "metadata": {
  "kernelspec": {
   "display_name": "Python 3",
   "language": "python",
   "name": "python3"
  },
  "language_info": {
   "codemirror_mode": {
    "name": "ipython",
    "version": 3
   },
   "file_extension": ".py",
   "mimetype": "text/x-python",
   "name": "python",
   "nbconvert_exporter": "python",
   "pygments_lexer": "ipython3",
   "version": "3.7.0"
  }
 },
 "nbformat": 4,
 "nbformat_minor": 2
}
